{
 "cells": [
  {
   "cell_type": "code",
   "execution_count": 1,
   "id": "794d1dcd",
   "metadata": {},
   "outputs": [
    {
     "name": "stderr",
     "output_type": "stream",
     "text": [
      "\u001b[32m\u001b[1m  Activating\u001b[22m\u001b[39m project at `C:\\Users\\tangi\\.julia\\dev\\BBModels.jl\\repeat`\n",
      "\u001b[32m\u001b[1m    Updating\u001b[22m\u001b[39m git-repo `https://github.com/MonssafToukal/SolverParameters.jl`\n",
      "\u001b[32m\u001b[1m    Updating\u001b[22m\u001b[39m registry at `C:\\Users\\tangi\\.julia\\registries\\General`\n",
      "\u001b[32m\u001b[1m    Updating\u001b[22m\u001b[39m git-repo `https://github.com/JuliaRegistries/General.git`\n",
      "\u001b[32m\u001b[1m   Resolving\u001b[22m\u001b[39m package versions...\n",
      "\u001b[32m\u001b[1m    Updating\u001b[22m\u001b[39m `C:\\Users\\tangi\\.julia\\dev\\BBModels.jl\\repeat\\Project.toml`\n",
      " \u001b[90m [d076d87d] \u001b[39m\u001b[93m~ SolverParameters v0.1.0 `https://github.com/tmigot/SolverParameters.jl#fix-rand` ⇒ v0.1.0 `https://github.com/MonssafToukal/SolverParameters.jl#main`\u001b[39m\n",
      "\u001b[32m\u001b[1m    Updating\u001b[22m\u001b[39m `C:\\Users\\tangi\\.julia\\dev\\BBModels.jl\\repeat\\Manifest.toml`\n",
      " \u001b[90m [d076d87d] \u001b[39m\u001b[93m~ SolverParameters v0.1.0 `https://github.com/tmigot/SolverParameters.jl#fix-rand` ⇒ v0.1.0 `https://github.com/MonssafToukal/SolverParameters.jl#main`\u001b[39m\n",
      "\u001b[32m\u001b[1m    Updating\u001b[22m\u001b[39m git-repo `https://github.com/ProofOfConceptForJuliSmoothOptimizers/BBModels.jl`\n",
      "\u001b[32m\u001b[1m   Resolving\u001b[22m\u001b[39m package versions...\n",
      "\u001b[32m\u001b[1m  No Changes\u001b[22m\u001b[39m to `C:\\Users\\tangi\\.julia\\dev\\BBModels.jl\\repeat\\Project.toml`\n",
      "\u001b[32m\u001b[1m  No Changes\u001b[22m\u001b[39m to `C:\\Users\\tangi\\.julia\\dev\\BBModels.jl\\repeat\\Manifest.toml`\n"
     ]
    }
   ],
   "source": [
    "using Pkg\n",
    "Pkg.activate(\".\")\n",
    "Pkg.add(url=\"https://github.com/MonssafToukal/SolverParameters.jl\", rev=\"main\")\n",
    "Pkg.add(url=\"https://github.com/ProofOfConceptForJuliSmoothOptimizers/BBModels.jl\", rev=\"main\")"
   ]
  },
  {
   "cell_type": "code",
   "execution_count": 2,
   "id": "8258ce84",
   "metadata": {},
   "outputs": [],
   "source": [
    "using SolverParameters"
   ]
  },
  {
   "cell_type": "markdown",
   "id": "8098ac78",
   "metadata": {},
   "source": [
    "For each solver, we define an instance of an `AbstractParameterSet` with the tunable parameters.\n",
    "See [https://monssaftoukal.github.io/SolverParameters.jl/dev/](https://monssaftoukal.github.io/SolverParameters.jl/dev/) for an example."
   ]
  },
  {
   "cell_type": "code",
   "execution_count": 3,
   "id": "23257cff",
   "metadata": {},
   "outputs": [],
   "source": [
    "struct LBFGSParameterSet{T <: Real} <: AbstractParameterSet\n",
    "  mem::Parameter{Int, IntegerRange{Int}}\n",
    "  τ₁::Parameter{T, RealInterval{T}}\n",
    "  bk_max::Parameter{Int, IntegerRange{Int}}\n",
    "  # add scaling\n",
    "  \n",
    "  function LBFGSParameterSet{T}(;mem::Int = 5, τ₁::T = T(0.9999), bk_max::Int = 25) where {T}        \n",
    "    p_set = new(\n",
    "      Parameter(mem, IntegerRange(Int(1), Int(20)), \"mem\"),\n",
    "      Parameter(τ₁, RealInterval(T(0), T(1)), \"τ₁\"),\n",
    "      Parameter(bk_max, IntegerRange(Int(10), Int(50)), \"bk_max\"),\n",
    "    )\n",
    "    return p_set\n",
    "  end\n",
    "\n",
    "  function LBFGSParameterSet(;kwargs...)\n",
    "    return LBFGSParameterSet{Float64}(; kwargs...)\n",
    "  end\n",
    "end"
   ]
  },
  {
   "cell_type": "code",
   "execution_count": 4,
   "id": "f6c50636",
   "metadata": {},
   "outputs": [
    {
     "name": "stderr",
     "output_type": "stream",
     "text": [
      "WARNING: ignoring conflicting import of Krylov.solve! into Main\n"
     ]
    }
   ],
   "source": [
    "include(\"lbfgs.jl\") # essentially copy-paste from JSOSolvers.jl/src/lbfgs.jl\n",
    "#=\n",
    "SolverCore.solve!(\n",
    "  solver::LBFGSSolver{T, V},\n",
    "  param::LBFGSParameterSet,\n",
    "  nlp::AbstractNLPModel{T, V},\n",
    "  stats::GenericExecutionStats{T, V};\n",
    "  kwargs...,\n",
    ")\n",
    "=#"
   ]
  },
  {
   "cell_type": "markdown",
   "id": "a87e5315",
   "metadata": {},
   "source": [
    "Let us now illustrate how we can use `BBModels` to model the problem of parameter tuning, cf. https://proofofconceptforjulismoothoptimizers.github.io/BBModels.jl/dev/."
   ]
  },
  {
   "cell_type": "code",
   "execution_count": 5,
   "id": "cf3e6393",
   "metadata": {},
   "outputs": [
    {
     "name": "stderr",
     "output_type": "stream",
     "text": [
      "WARNING: using BBModels.get_status in module Main conflicts with an existing identifier.\n"
     ]
    }
   ],
   "source": [
    "using BBModels"
   ]
  },
  {
   "cell_type": "markdown",
   "id": "ad8e5224",
   "metadata": {},
   "source": [
    "We select a set of problems."
   ]
  },
  {
   "cell_type": "code",
   "execution_count": 6,
   "id": "c1cf6e37",
   "metadata": {},
   "outputs": [
    {
     "data": {
      "text/plain": [
       "5-element Vector{Int64}:\n",
       "  91\n",
       " 100\n",
       " 100\n",
       " 100\n",
       " 100"
      ]
     },
     "execution_count": 6,
     "metadata": {},
     "output_type": "execute_result"
    }
   ],
   "source": [
    "using ADNLPModels, OptimizationProblems, OptimizationProblems.ADNLPProblems\n",
    "n = 5\n",
    "meta = OptimizationProblems.meta\n",
    "list = meta[\n",
    "  meta.minimize .& (meta.ncon .== 0) .& .!meta.has_bounds .& (20 .≤ meta.nvar .≤ 100),\n",
    "  :name\n",
    "]\n",
    "problems = [eval(p)() for (_, p) ∈ zip(1:n, Symbol.(list))];\n",
    "nvars = [p.meta.nvar for p in problems]"
   ]
  },
  {
   "cell_type": "markdown",
   "id": "47db5282",
   "metadata": {},
   "source": [
    "We instantiate a `BBModel` as follows."
   ]
  },
  {
   "cell_type": "code",
   "execution_count": 7,
   "id": "44b17a30",
   "metadata": {},
   "outputs": [
    {
     "name": "stdout",
     "output_type": "stream",
     "text": [
      "search: \u001b[0m\u001b[1mB\u001b[22m\u001b[0m\u001b[1mB\u001b[22m\u001b[0m\u001b[1mM\u001b[22m\u001b[0m\u001b[1mo\u001b[22m\u001b[0m\u001b[1md\u001b[22m\u001b[0m\u001b[1me\u001b[22m\u001b[0m\u001b[1ml\u001b[22m \u001b[0m\u001b[1mB\u001b[22m\u001b[0m\u001b[1mB\u001b[22m\u001b[0m\u001b[1mM\u001b[22m\u001b[0m\u001b[1mo\u001b[22m\u001b[0m\u001b[1md\u001b[22m\u001b[0m\u001b[1me\u001b[22m\u001b[0m\u001b[1ml\u001b[22ms \u001b[0m\u001b[1mB\u001b[22m\u001b[0m\u001b[1mB\u001b[22m\u001b[0m\u001b[1mM\u001b[22m\u001b[0m\u001b[1mo\u001b[22m\u001b[0m\u001b[1md\u001b[22m\u001b[0m\u001b[1me\u001b[22m\u001b[0m\u001b[1ml\u001b[22mMeta\n",
      "\n"
     ]
    },
    {
     "data": {
      "text/latex": [
       "Mutable struct \\texttt{BBModel}\n",
       "\n",
       "Represents a black box optimization problem that follows the NLPModel API.\n",
       "\n",
       "The following constructors are available:\n",
       "\n",
       "\\begin{verbatim}\n",
       "BBModel(parameter_set, problems, solver_function, f; kwargs...)\n",
       "BBModel(parameter_set, problems, solver_function, f, c, lcon, ucon; kwargs...)\n",
       "\\end{verbatim}\n",
       "\\begin{itemize}\n",
       "\\item \\texttt{parameter\\_set::AbstractParameterSet}: structure containing parameters information;\n",
       "\n",
       "\n",
       "\\item \\texttt{problems::Vector\\{AbstractNLPModel\\}}: set of problem to run the benchmark on;\n",
       "\n",
       "\n",
       "\\item \\texttt{solver\\_function::Function}: function that takes an \\texttt{AbstractNLPModel} and a \\texttt{AbstractParameterSet} and returns a \\href{https://github.com/JuliaSmoothOptimizers/SolverCore.jl/blob/main/src/stats.jl}{\\texttt{GenericExecutionStats}}.\n",
       "\n",
       "\n",
       "\\item \\texttt{f::Function}: Given a \\texttt{Vector\\{ProblemMetrics\\}} returns a score as a Float64 (examples are \\href{@ref}{\\texttt{time\\_only}}, \\href{@ref}{\\texttt{memory\\_only}}, \\href{@ref}{\\texttt{sumfc}});\n",
       "\n",
       "\\end{itemize}\n",
       "For constrained problems:\n",
       "\n",
       "\\begin{verbatim}\n",
       "lcon ≤ c(x) ≤ ucon\n",
       "\\end{verbatim}\n",
       "\\begin{itemize}\n",
       "\\item \\texttt{c::Function}: constraint function;\n",
       "\n",
       "\n",
       "\\item \\texttt{lcon::AbstractVector}: lower bound on the constraint;\n",
       "\n",
       "\n",
       "\\item \\texttt{ucon::AbstractVector}: upper bound on the constraint.\n",
       "\n",
       "\\end{itemize}\n",
       "Additional keyword arguments are:\n",
       "\n",
       "\\begin{itemize}\n",
       "\\item \\texttt{subset::NTuple\\{N, Symbol\\}}: subset of parameters to be considered (by default all parameters from \\texttt{parameter\\_set});\n",
       "\n",
       "\n",
       "\\item \\texttt{x0::AbstractVector}: initial values for the parameters (by default \\texttt{Float64.(values(parameter\\_set))});\n",
       "\n",
       "\n",
       "\\item \\texttt{lvar::AbstractVector}: lower bound on the the parameters (by default \\texttt{Float64.(lower\\_bounds(parameter\\_set))});\n",
       "\n",
       "\n",
       "\\item \\texttt{uvar::AbstractVector}: upper bound on the the parameters (by default \\texttt{Float64.(lower\\_bounds(parameter\\_set))});\n",
       "\n",
       "\n",
       "\\item \\texttt{name::String}: name of the problem (by default: \"Generic\").\n",
       "\n",
       "\\end{itemize}\n",
       "Note that if \\texttt{x0} is not provided, the computations are run in \\texttt{Vector\\{Float64\\}}.\n",
       "\n"
      ],
      "text/markdown": [
       "Mutable struct `BBModel`\n",
       "\n",
       "Represents a black box optimization problem that follows the NLPModel API.\n",
       "\n",
       "The following constructors are available:\n",
       "\n",
       "```\n",
       "BBModel(parameter_set, problems, solver_function, f; kwargs...)\n",
       "BBModel(parameter_set, problems, solver_function, f, c, lcon, ucon; kwargs...)\n",
       "```\n",
       "\n",
       "  * `parameter_set::AbstractParameterSet`: structure containing parameters information;\n",
       "  * `problems::Vector{AbstractNLPModel}`: set of problem to run the benchmark on;\n",
       "  * `solver_function::Function`: function that takes an `AbstractNLPModel` and a `AbstractParameterSet` and returns a [`GenericExecutionStats`](https://github.com/JuliaSmoothOptimizers/SolverCore.jl/blob/main/src/stats.jl).\n",
       "  * `f::Function`: Given a `Vector{ProblemMetrics}` returns a score as a Float64 (examples are [`time_only`](@ref), [`memory_only`](@ref), [`sumfc`](@ref));\n",
       "\n",
       "For constrained problems:\n",
       "\n",
       "```\n",
       "lcon ≤ c(x) ≤ ucon\n",
       "```\n",
       "\n",
       "  * `c::Function`: constraint function;\n",
       "  * `lcon::AbstractVector`: lower bound on the constraint;\n",
       "  * `ucon::AbstractVector`: upper bound on the constraint.\n",
       "\n",
       "Additional keyword arguments are:\n",
       "\n",
       "  * `subset::NTuple{N, Symbol}`: subset of parameters to be considered (by default all parameters from `parameter_set`);\n",
       "  * `x0::AbstractVector`: initial values for the parameters (by default `Float64.(values(parameter_set))`);\n",
       "  * `lvar::AbstractVector`: lower bound on the the parameters (by default `Float64.(lower_bounds(parameter_set))`);\n",
       "  * `uvar::AbstractVector`: upper bound on the the parameters (by default `Float64.(lower_bounds(parameter_set))`);\n",
       "  * `name::String`: name of the problem (by default: \"Generic\").\n",
       "\n",
       "Note that if `x0` is not provided, the computations are run in `Vector{Float64}`.\n"
      ],
      "text/plain": [
       "  Mutable struct \u001b[36mBBModel\u001b[39m\n",
       "\n",
       "  Represents a black box optimization problem that follows the NLPModel API.\n",
       "\n",
       "  The following constructors are available:\n",
       "\n",
       "\u001b[36m  BBModel(parameter_set, problems, solver_function, f; kwargs...)\u001b[39m\n",
       "\u001b[36m  BBModel(parameter_set, problems, solver_function, f, c, lcon, ucon; kwargs...)\u001b[39m\n",
       "\n",
       "    •  \u001b[36mparameter_set::AbstractParameterSet\u001b[39m: structure containing\n",
       "       parameters information;\n",
       "\n",
       "    •  \u001b[36mproblems::Vector{AbstractNLPModel}\u001b[39m: set of problem to run the\n",
       "       benchmark on;\n",
       "\n",
       "    •  \u001b[36msolver_function::Function\u001b[39m: function that takes an \u001b[36mAbstractNLPModel\u001b[39m\n",
       "       and a \u001b[36mAbstractParameterSet\u001b[39m and returns a \u001b[36mGenericExecutionStats\u001b[39m\n",
       "       (https://github.com/JuliaSmoothOptimizers/SolverCore.jl/blob/main/src/stats.jl).\n",
       "\n",
       "    •  \u001b[36mf::Function\u001b[39m: Given a \u001b[36mVector{ProblemMetrics}\u001b[39m returns a score as a\n",
       "       Float64 (examples are \u001b[36mtime_only\u001b[39m, \u001b[36mmemory_only\u001b[39m, \u001b[36msumfc\u001b[39m);\n",
       "\n",
       "  For constrained problems:\n",
       "\n",
       "\u001b[36m  lcon ≤ c(x) ≤ ucon\u001b[39m\n",
       "\n",
       "    •  \u001b[36mc::Function\u001b[39m: constraint function;\n",
       "\n",
       "    •  \u001b[36mlcon::AbstractVector\u001b[39m: lower bound on the constraint;\n",
       "\n",
       "    •  \u001b[36mucon::AbstractVector\u001b[39m: upper bound on the constraint.\n",
       "\n",
       "  Additional keyword arguments are:\n",
       "\n",
       "    •  \u001b[36msubset::NTuple{N, Symbol}\u001b[39m: subset of parameters to be considered\n",
       "       (by default all parameters from \u001b[36mparameter_set\u001b[39m);\n",
       "\n",
       "    •  \u001b[36mx0::AbstractVector\u001b[39m: initial values for the parameters (by default\n",
       "       \u001b[36mFloat64.(values(parameter_set))\u001b[39m);\n",
       "\n",
       "    •  \u001b[36mlvar::AbstractVector\u001b[39m: lower bound on the the parameters (by\n",
       "       default \u001b[36mFloat64.(lower_bounds(parameter_set))\u001b[39m);\n",
       "\n",
       "    •  \u001b[36muvar::AbstractVector\u001b[39m: upper bound on the the parameters (by\n",
       "       default \u001b[36mFloat64.(lower_bounds(parameter_set))\u001b[39m);\n",
       "\n",
       "    •  \u001b[36mname::String\u001b[39m: name of the problem (by default: \"Generic\").\n",
       "\n",
       "  Note that if \u001b[36mx0\u001b[39m is not provided, the computations are run in\n",
       "  \u001b[36mVector{Float64}\u001b[39m."
      ]
     },
     "execution_count": 7,
     "metadata": {},
     "output_type": "execute_result"
    }
   ],
   "source": [
    "? BBModel"
   ]
  },
  {
   "cell_type": "code",
   "execution_count": 8,
   "id": "0e25b17a",
   "metadata": {},
   "outputs": [
    {
     "data": {
      "text/plain": [
       "BBModel - Black Box Optimization Model\n",
       "  Problem name: generic-BBModel\n",
       "   All variables: ████████████████████ 1      All constraints: ⋅⋅⋅⋅⋅⋅⋅⋅⋅⋅⋅⋅⋅⋅⋅⋅⋅⋅⋅⋅ 0     \n",
       "            free: ⋅⋅⋅⋅⋅⋅⋅⋅⋅⋅⋅⋅⋅⋅⋅⋅⋅⋅⋅⋅ 0                 free: ⋅⋅⋅⋅⋅⋅⋅⋅⋅⋅⋅⋅⋅⋅⋅⋅⋅⋅⋅⋅ 0     \n",
       "           lower: ⋅⋅⋅⋅⋅⋅⋅⋅⋅⋅⋅⋅⋅⋅⋅⋅⋅⋅⋅⋅ 0                lower: ⋅⋅⋅⋅⋅⋅⋅⋅⋅⋅⋅⋅⋅⋅⋅⋅⋅⋅⋅⋅ 0     \n",
       "           upper: ⋅⋅⋅⋅⋅⋅⋅⋅⋅⋅⋅⋅⋅⋅⋅⋅⋅⋅⋅⋅ 0                upper: ⋅⋅⋅⋅⋅⋅⋅⋅⋅⋅⋅⋅⋅⋅⋅⋅⋅⋅⋅⋅ 0     \n",
       "         low/upp: ████████████████████ 1              low/upp: ⋅⋅⋅⋅⋅⋅⋅⋅⋅⋅⋅⋅⋅⋅⋅⋅⋅⋅⋅⋅ 0     \n",
       "           fixed: ⋅⋅⋅⋅⋅⋅⋅⋅⋅⋅⋅⋅⋅⋅⋅⋅⋅⋅⋅⋅ 0                fixed: ⋅⋅⋅⋅⋅⋅⋅⋅⋅⋅⋅⋅⋅⋅⋅⋅⋅⋅⋅⋅ 0     \n",
       "          infeas: ⋅⋅⋅⋅⋅⋅⋅⋅⋅⋅⋅⋅⋅⋅⋅⋅⋅⋅⋅⋅ 0               infeas: ⋅⋅⋅⋅⋅⋅⋅⋅⋅⋅⋅⋅⋅⋅⋅⋅⋅⋅⋅⋅ 0     \n",
       "            nnzh: (  0.00% sparsity)   1               linear: ⋅⋅⋅⋅⋅⋅⋅⋅⋅⋅⋅⋅⋅⋅⋅⋅⋅⋅⋅⋅ 0     \n",
       "                                                    nonlinear: ⋅⋅⋅⋅⋅⋅⋅⋅⋅⋅⋅⋅⋅⋅⋅⋅⋅⋅⋅⋅ 0     \n",
       "                                                         nnzj: (------% sparsity)         \n",
       "\n",
       "  Counters:\n",
       "             obj: ⋅⋅⋅⋅⋅⋅⋅⋅⋅⋅⋅⋅⋅⋅⋅⋅⋅⋅⋅⋅ 0                 grad: ⋅⋅⋅⋅⋅⋅⋅⋅⋅⋅⋅⋅⋅⋅⋅⋅⋅⋅⋅⋅ 0                 cons: ⋅⋅⋅⋅⋅⋅⋅⋅⋅⋅⋅⋅⋅⋅⋅⋅⋅⋅⋅⋅ 0     \n",
       "        cons_lin: ⋅⋅⋅⋅⋅⋅⋅⋅⋅⋅⋅⋅⋅⋅⋅⋅⋅⋅⋅⋅ 0             cons_nln: ⋅⋅⋅⋅⋅⋅⋅⋅⋅⋅⋅⋅⋅⋅⋅⋅⋅⋅⋅⋅ 0                 jcon: ⋅⋅⋅⋅⋅⋅⋅⋅⋅⋅⋅⋅⋅⋅⋅⋅⋅⋅⋅⋅ 0     \n",
       "           jgrad: ⋅⋅⋅⋅⋅⋅⋅⋅⋅⋅⋅⋅⋅⋅⋅⋅⋅⋅⋅⋅ 0                  jac: ⋅⋅⋅⋅⋅⋅⋅⋅⋅⋅⋅⋅⋅⋅⋅⋅⋅⋅⋅⋅ 0              jac_lin: ⋅⋅⋅⋅⋅⋅⋅⋅⋅⋅⋅⋅⋅⋅⋅⋅⋅⋅⋅⋅ 0     \n",
       "         jac_nln: ⋅⋅⋅⋅⋅⋅⋅⋅⋅⋅⋅⋅⋅⋅⋅⋅⋅⋅⋅⋅ 0                jprod: ⋅⋅⋅⋅⋅⋅⋅⋅⋅⋅⋅⋅⋅⋅⋅⋅⋅⋅⋅⋅ 0            jprod_lin: ⋅⋅⋅⋅⋅⋅⋅⋅⋅⋅⋅⋅⋅⋅⋅⋅⋅⋅⋅⋅ 0     \n",
       "       jprod_nln: ⋅⋅⋅⋅⋅⋅⋅⋅⋅⋅⋅⋅⋅⋅⋅⋅⋅⋅⋅⋅ 0               jtprod: ⋅⋅⋅⋅⋅⋅⋅⋅⋅⋅⋅⋅⋅⋅⋅⋅⋅⋅⋅⋅ 0           jtprod_lin: ⋅⋅⋅⋅⋅⋅⋅⋅⋅⋅⋅⋅⋅⋅⋅⋅⋅⋅⋅⋅ 0     \n",
       "      jtprod_nln: ⋅⋅⋅⋅⋅⋅⋅⋅⋅⋅⋅⋅⋅⋅⋅⋅⋅⋅⋅⋅ 0                 hess: ⋅⋅⋅⋅⋅⋅⋅⋅⋅⋅⋅⋅⋅⋅⋅⋅⋅⋅⋅⋅ 0                hprod: ⋅⋅⋅⋅⋅⋅⋅⋅⋅⋅⋅⋅⋅⋅⋅⋅⋅⋅⋅⋅ 0     \n",
       "           jhess: ⋅⋅⋅⋅⋅⋅⋅⋅⋅⋅⋅⋅⋅⋅⋅⋅⋅⋅⋅⋅ 0               jhprod: ⋅⋅⋅⋅⋅⋅⋅⋅⋅⋅⋅⋅⋅⋅⋅⋅⋅⋅⋅⋅ 0     \n"
      ]
     },
     "execution_count": 8,
     "metadata": {},
     "output_type": "execute_result"
    }
   ],
   "source": [
    "param_set = LBFGSParameterSet()\n",
    "solver_func = lbfgs\n",
    "subset = (:mem, ) # optimize only `mem`\n",
    "\n",
    "using BenchmarkTools\n",
    "# cost function to be optimized:\n",
    "function fun(vec_metrics::Vector{ProblemMetrics})\n",
    "  penalty = 1e2\n",
    "  global fx = 0\n",
    "  for p in vec_metrics\n",
    "    failed = is_failure(BBModels.get_status(p))\n",
    "    nobj = get_counters(p).neval_obj\n",
    "    med_time = BenchmarkTools.median(get_times(p))\n",
    "    @info \"Problem $(p.pb_id) - $(problems[p.pb_id].meta.name) : $(failed) #f:$(nobj) t=$(med_time)\"\n",
    "    fx += failed * penalty + nobj + med_time\n",
    "  end\n",
    "  return fx\n",
    "end\n",
    "\n",
    "model = BBModel(\n",
    "  param_set, # AbstractParameterSet\n",
    "  problems, # vector of AbstractNLPModel\n",
    "  solver_func, # (::AbstractNLPModel, ::AbstractParameterSet) -> GenericExecutionStats\n",
    "  fun, # time_only, memory_only, sumfc OR a hand-made function\n",
    "  subset = subset,\n",
    ")"
   ]
  },
  {
   "cell_type": "code",
   "execution_count": 9,
   "id": "512c405b",
   "metadata": {},
   "outputs": [
    {
     "data": {
      "text/plain": [
       "very_smart_algo (generic function with 1 method)"
      ]
     },
     "execution_count": 9,
     "metadata": {},
     "output_type": "execute_result"
    }
   ],
   "source": [
    "function very_smart_algo(model::BBModel; verbose = 0, max_time = 30.0, max_iter = 10)\n",
    "  cache = Float64[]\n",
    "  cache_x = Any[]\n",
    "  start_time = time()\n",
    "  for i=1:max_iter\n",
    "    time() - start_time > max_time && break\n",
    "    x = SolverParameters.rand(model.subset, model.parameter_set) # may return categorical variables\n",
    "    @show x\n",
    "    fx = BBModels.obj_cat(model, x)\n",
    "    push!(cache, fx)\n",
    "    push!(cache_x, x)\n",
    "    (verbose > 0) && println(\"$i: fx=$fx\")\n",
    "  end\n",
    "  is = argmin(cache)\n",
    "  println(\"Best value is mem=$(cache_x[is])\")\n",
    "  return cache_x[is]\n",
    "end"
   ]
  },
  {
   "cell_type": "code",
   "execution_count": 10,
   "id": "b9b05526",
   "metadata": {},
   "outputs": [
    {
     "name": "stdout",
     "output_type": "stream",
     "text": [
      "x = Any[8]\n",
      "1: fx=580.0059383264463\n",
      "x = Any[2]\n"
     ]
    },
    {
     "name": "stderr",
     "output_type": "stream",
     "text": [
      "\u001b[36m\u001b[1m[ \u001b[22m\u001b[39m\u001b[36m\u001b[1mInfo: \u001b[22m\u001b[39mProblem 1 - NZF1 : false #f:422 t=0.0010413911845730027\n",
      "\u001b[36m\u001b[1m[ \u001b[22m\u001b[39m\u001b[36m\u001b[1mInfo: \u001b[22m\u001b[39mProblem 2 - arglina : false #f:8 t=0.0009300275482093664\n",
      "\u001b[36m\u001b[1m[ \u001b[22m\u001b[39m\u001b[36m\u001b[1mInfo: \u001b[22m\u001b[39mProblem 3 - arglinb : false #f:56 t=0.0012582644628099174\n",
      "\u001b[36m\u001b[1m[ \u001b[22m\u001b[39m\u001b[36m\u001b[1mInfo: \u001b[22m\u001b[39mProblem 4 - arglinc : false #f:56 t=0.0012611914600550965\n",
      "\u001b[36m\u001b[1m[ \u001b[22m\u001b[39m\u001b[36m\u001b[1mInfo: \u001b[22m\u001b[39mProblem 5 - arwhead : false #f:38 t=0.001447451790633609\n"
     ]
    },
    {
     "name": "stdout",
     "output_type": "stream",
     "text": [
      "2: fx=732.0067258608816\n",
      "x = Any[6]\n"
     ]
    },
    {
     "name": "stderr",
     "output_type": "stream",
     "text": [
      "\u001b[36m\u001b[1m[ \u001b[22m\u001b[39m\u001b[36m\u001b[1mInfo: \u001b[22m\u001b[39mProblem 1 - NZF1 : false #f:566 t=0.0012129132231404958\n",
      "\u001b[36m\u001b[1m[ \u001b[22m\u001b[39m\u001b[36m\u001b[1mInfo: \u001b[22m\u001b[39mProblem 2 - arglina : false #f:8 t=0.0011081611570247934\n",
      "\u001b[36m\u001b[1m[ \u001b[22m\u001b[39m\u001b[36m\u001b[1mInfo: \u001b[22m\u001b[39mProblem 3 - arglinb : false #f:56 t=0.0012371900826446281\n",
      "\u001b[36m\u001b[1m[ \u001b[22m\u001b[39m\u001b[36m\u001b[1mInfo: \u001b[22m\u001b[39mProblem 4 - arglinc : false #f:56 t=0.0013\n",
      "\u001b[36m\u001b[1m[ \u001b[22m\u001b[39m\u001b[36m\u001b[1mInfo: \u001b[22m\u001b[39mProblem 5 - arwhead : false #f:46 t=0.0018675964187327824\n"
     ]
    },
    {
     "name": "stdout",
     "output_type": "stream",
     "text": [
      "3: fx=528.0057033746557\n",
      "x = Any[18]"
     ]
    },
    {
     "name": "stderr",
     "output_type": "stream",
     "text": [
      "\u001b[36m\u001b[1m[ \u001b[22m\u001b[39m\u001b[36m\u001b[1mInfo: \u001b[22m\u001b[39mProblem 1 - NZF1 : false #f:370 t=0.0008486914600550964\n",
      "\u001b[36m\u001b[1m[ \u001b[22m\u001b[39m\u001b[36m\u001b[1mInfo: \u001b[22m\u001b[39mProblem 2 - arglina : false #f:8 t=0.0008537534435261708\n",
      "\u001b[36m\u001b[1m[ \u001b[22m\u001b[39m\u001b[36m\u001b[1mInfo: \u001b[22m\u001b[39mProblem 3 - arglinb : false #f:56 t=0.0014475550964187327\n",
      "\u001b[36m\u001b[1m[ \u001b[22m\u001b[39m\u001b[36m\u001b[1mInfo: \u001b[22m\u001b[39mProblem 4 - arglinc : false #f:56 t=0.0012768595041322314\n",
      "\u001b[36m\u001b[1m[ \u001b[22m\u001b[39m\u001b[36m\u001b[1mInfo: \u001b[22m\u001b[39mProblem 5 - arwhead : false #f:38 t=0.0012765151515151515\n"
     ]
    },
    {
     "name": "stdout",
     "output_type": "stream",
     "text": [
      "\n",
      "4: fx=360.00585571625345\n",
      "x = Any[5]\n"
     ]
    },
    {
     "name": "stderr",
     "output_type": "stream",
     "text": [
      "\u001b[36m\u001b[1m[ \u001b[22m\u001b[39m\u001b[36m\u001b[1mInfo: \u001b[22m\u001b[39mProblem 1 - NZF1 : false #f:202 t=0.0005538223140495867\n",
      "\u001b[36m\u001b[1m[ \u001b[22m\u001b[39m\u001b[36m\u001b[1mInfo: \u001b[22m\u001b[39mProblem 2 - arglina : false #f:8 t=0.0008423553719008265\n",
      "\u001b[36m\u001b[1m[ \u001b[22m\u001b[39m\u001b[36m\u001b[1mInfo: \u001b[22m\u001b[39mProblem 3 - arglinb : false #f:56 t=0.0013536157024793389\n",
      "\u001b[36m\u001b[1m[ \u001b[22m\u001b[39m\u001b[36m\u001b[1mInfo: \u001b[22m\u001b[39mProblem 4 - arglinc : false #f:56 t=0.0012926308539944903\n",
      "\u001b[36m\u001b[1m[ \u001b[22m\u001b[39m\u001b[36m\u001b[1mInfo: \u001b[22m\u001b[39mProblem 5 - arwhead : false #f:38 t=0.001813292011019284\n"
     ]
    },
    {
     "name": "stdout",
     "output_type": "stream",
     "text": [
      "5: fx=670.0063517906336\n",
      "Best value is mem=Any[18]\n"
     ]
    },
    {
     "name": "stderr",
     "output_type": "stream",
     "text": [
      "\u001b[36m\u001b[1m[ \u001b[22m\u001b[39m\u001b[36m\u001b[1mInfo: \u001b[22m\u001b[39mProblem 1 - NZF1 : false #f:510 t=0.0013459366391184574\n",
      "\u001b[36m\u001b[1m[ \u001b[22m\u001b[39m\u001b[36m\u001b[1mInfo: \u001b[22m\u001b[39mProblem 2 - arglina : false #f:8 t=0.0008684228650137741\n",
      "\u001b[36m\u001b[1m[ \u001b[22m\u001b[39m\u001b[36m\u001b[1mInfo: \u001b[22m\u001b[39mProblem 3 - arglinb : false #f:56 t=0.0013089531680440772\n",
      "\u001b[36m\u001b[1m[ \u001b[22m\u001b[39m\u001b[36m\u001b[1mInfo: \u001b[22m\u001b[39mProblem 4 - arglinc : false #f:56 t=0.001263429752066116\n",
      "\u001b[36m\u001b[1m[ \u001b[22m\u001b[39m\u001b[36m\u001b[1mInfo: \u001b[22m\u001b[39mProblem 5 - arwhead : false #f:40 t=0.0015650482093663913\n"
     ]
    },
    {
     "data": {
      "text/plain": [
       "1-element Vector{Any}:\n",
       " 18"
      ]
     },
     "execution_count": 10,
     "metadata": {},
     "output_type": "execute_result"
    }
   ],
   "source": [
    "vals = very_smart_algo(model, verbose = 1)"
   ]
  },
  {
   "cell_type": "code",
   "execution_count": 11,
   "id": "01ce2ea7",
   "metadata": {},
   "outputs": [],
   "source": [
    "set_values!(subset, param_set, vals)"
   ]
  },
  {
   "cell_type": "code",
   "execution_count": 12,
   "id": "6156cbcc",
   "metadata": {},
   "outputs": [
    {
     "data": {
      "text/plain": [
       "18"
      ]
     },
     "execution_count": 12,
     "metadata": {},
     "output_type": "execute_result"
    }
   ],
   "source": [
    "value(param_set.mem)"
   ]
  },
  {
   "cell_type": "markdown",
   "id": "57c254a3",
   "metadata": {},
   "source": [
    "To avoid instantiating all the problems from the start, it is also possible to pass a list of functions:"
   ]
  },
  {
   "cell_type": "code",
   "execution_count": 13,
   "id": "da6dd7a6",
   "metadata": {},
   "outputs": [
    {
     "data": {
      "text/plain": [
       "BBModel - Black Box Optimization Model\n",
       "  Problem name: generic-BBModel\n",
       "   All variables: ████████████████████ 1      All constraints: ⋅⋅⋅⋅⋅⋅⋅⋅⋅⋅⋅⋅⋅⋅⋅⋅⋅⋅⋅⋅ 0     \n",
       "            free: ⋅⋅⋅⋅⋅⋅⋅⋅⋅⋅⋅⋅⋅⋅⋅⋅⋅⋅⋅⋅ 0                 free: ⋅⋅⋅⋅⋅⋅⋅⋅⋅⋅⋅⋅⋅⋅⋅⋅⋅⋅⋅⋅ 0     \n",
       "           lower: ⋅⋅⋅⋅⋅⋅⋅⋅⋅⋅⋅⋅⋅⋅⋅⋅⋅⋅⋅⋅ 0                lower: ⋅⋅⋅⋅⋅⋅⋅⋅⋅⋅⋅⋅⋅⋅⋅⋅⋅⋅⋅⋅ 0     \n",
       "           upper: ⋅⋅⋅⋅⋅⋅⋅⋅⋅⋅⋅⋅⋅⋅⋅⋅⋅⋅⋅⋅ 0                upper: ⋅⋅⋅⋅⋅⋅⋅⋅⋅⋅⋅⋅⋅⋅⋅⋅⋅⋅⋅⋅ 0     \n",
       "         low/upp: ████████████████████ 1              low/upp: ⋅⋅⋅⋅⋅⋅⋅⋅⋅⋅⋅⋅⋅⋅⋅⋅⋅⋅⋅⋅ 0     \n",
       "           fixed: ⋅⋅⋅⋅⋅⋅⋅⋅⋅⋅⋅⋅⋅⋅⋅⋅⋅⋅⋅⋅ 0                fixed: ⋅⋅⋅⋅⋅⋅⋅⋅⋅⋅⋅⋅⋅⋅⋅⋅⋅⋅⋅⋅ 0     \n",
       "          infeas: ⋅⋅⋅⋅⋅⋅⋅⋅⋅⋅⋅⋅⋅⋅⋅⋅⋅⋅⋅⋅ 0               infeas: ⋅⋅⋅⋅⋅⋅⋅⋅⋅⋅⋅⋅⋅⋅⋅⋅⋅⋅⋅⋅ 0     \n",
       "            nnzh: (  0.00% sparsity)   1               linear: ⋅⋅⋅⋅⋅⋅⋅⋅⋅⋅⋅⋅⋅⋅⋅⋅⋅⋅⋅⋅ 0     \n",
       "                                                    nonlinear: ⋅⋅⋅⋅⋅⋅⋅⋅⋅⋅⋅⋅⋅⋅⋅⋅⋅⋅⋅⋅ 0     \n",
       "                                                         nnzj: (------% sparsity)         \n",
       "\n",
       "  Counters:\n",
       "             obj: ⋅⋅⋅⋅⋅⋅⋅⋅⋅⋅⋅⋅⋅⋅⋅⋅⋅⋅⋅⋅ 0                 grad: ⋅⋅⋅⋅⋅⋅⋅⋅⋅⋅⋅⋅⋅⋅⋅⋅⋅⋅⋅⋅ 0                 cons: ⋅⋅⋅⋅⋅⋅⋅⋅⋅⋅⋅⋅⋅⋅⋅⋅⋅⋅⋅⋅ 0     \n",
       "        cons_lin: ⋅⋅⋅⋅⋅⋅⋅⋅⋅⋅⋅⋅⋅⋅⋅⋅⋅⋅⋅⋅ 0             cons_nln: ⋅⋅⋅⋅⋅⋅⋅⋅⋅⋅⋅⋅⋅⋅⋅⋅⋅⋅⋅⋅ 0                 jcon: ⋅⋅⋅⋅⋅⋅⋅⋅⋅⋅⋅⋅⋅⋅⋅⋅⋅⋅⋅⋅ 0     \n",
       "           jgrad: ⋅⋅⋅⋅⋅⋅⋅⋅⋅⋅⋅⋅⋅⋅⋅⋅⋅⋅⋅⋅ 0                  jac: ⋅⋅⋅⋅⋅⋅⋅⋅⋅⋅⋅⋅⋅⋅⋅⋅⋅⋅⋅⋅ 0              jac_lin: ⋅⋅⋅⋅⋅⋅⋅⋅⋅⋅⋅⋅⋅⋅⋅⋅⋅⋅⋅⋅ 0     \n",
       "         jac_nln: ⋅⋅⋅⋅⋅⋅⋅⋅⋅⋅⋅⋅⋅⋅⋅⋅⋅⋅⋅⋅ 0                jprod: ⋅⋅⋅⋅⋅⋅⋅⋅⋅⋅⋅⋅⋅⋅⋅⋅⋅⋅⋅⋅ 0            jprod_lin: ⋅⋅⋅⋅⋅⋅⋅⋅⋅⋅⋅⋅⋅⋅⋅⋅⋅⋅⋅⋅ 0     \n",
       "       jprod_nln: ⋅⋅⋅⋅⋅⋅⋅⋅⋅⋅⋅⋅⋅⋅⋅⋅⋅⋅⋅⋅ 0               jtprod: ⋅⋅⋅⋅⋅⋅⋅⋅⋅⋅⋅⋅⋅⋅⋅⋅⋅⋅⋅⋅ 0           jtprod_lin: ⋅⋅⋅⋅⋅⋅⋅⋅⋅⋅⋅⋅⋅⋅⋅⋅⋅⋅⋅⋅ 0     \n",
       "      jtprod_nln: ⋅⋅⋅⋅⋅⋅⋅⋅⋅⋅⋅⋅⋅⋅⋅⋅⋅⋅⋅⋅ 0                 hess: ⋅⋅⋅⋅⋅⋅⋅⋅⋅⋅⋅⋅⋅⋅⋅⋅⋅⋅⋅⋅ 0                hprod: ⋅⋅⋅⋅⋅⋅⋅⋅⋅⋅⋅⋅⋅⋅⋅⋅⋅⋅⋅⋅ 0     \n",
       "           jhess: ⋅⋅⋅⋅⋅⋅⋅⋅⋅⋅⋅⋅⋅⋅⋅⋅⋅⋅⋅⋅ 0               jhprod: ⋅⋅⋅⋅⋅⋅⋅⋅⋅⋅⋅⋅⋅⋅⋅⋅⋅⋅⋅⋅ 0     \n"
      ]
     },
     "execution_count": 13,
     "metadata": {},
     "output_type": "execute_result"
    }
   ],
   "source": [
    "problems_expr = [() -> eval(p)() for (_, p) ∈ zip(1:n, Symbol.(list))]\n",
    "model_expr = BBModel(\n",
    "  param_set, # AbstractParameterSet\n",
    "  problems_expr, # vector of Function\n",
    "  solver_func, # (::AbstractNLPModel, ::AbstractParameterSet) -> GenericExecutionStats\n",
    "  fun, # time_only, memory_only, sumfc OR a hand-made function\n",
    "  subset = subset,\n",
    ")"
   ]
  },
  {
   "cell_type": "code",
   "execution_count": 14,
   "id": "436afa11",
   "metadata": {},
   "outputs": [
    {
     "name": "stdout",
     "output_type": "stream",
     "text": [
      "x = Any[8]\n",
      "1: fx=580.0058439738292\n",
      "x = Any[13]"
     ]
    },
    {
     "name": "stderr",
     "output_type": "stream",
     "text": [
      "\u001b[36m\u001b[1m[ \u001b[22m\u001b[39m\u001b[36m\u001b[1mInfo: \u001b[22m\u001b[39mProblem 1 - NZF1 : false #f:422 t=0.0009411157024793389\n",
      "\u001b[36m\u001b[1m[ \u001b[22m\u001b[39m\u001b[36m\u001b[1mInfo: \u001b[22m\u001b[39mProblem 2 - arglina : false #f:8 t=0.0008371212121212121\n",
      "\u001b[36m\u001b[1m[ \u001b[22m\u001b[39m\u001b[36m\u001b[1mInfo: \u001b[22m\u001b[39mProblem 3 - arglinb : false #f:56 t=0.0013505853994490358\n",
      "\u001b[36m\u001b[1m[ \u001b[22m\u001b[39m\u001b[36m\u001b[1mInfo: \u001b[22m\u001b[39mProblem 4 - arglinc : false #f:56 t=0.001274758953168044\n",
      "\u001b[36m\u001b[1m[ \u001b[22m\u001b[39m\u001b[36m\u001b[1mInfo: \u001b[22m\u001b[39mProblem 5 - arwhead : false #f:38 t=0.001440392561983471\n"
     ]
    },
    {
     "name": "stdout",
     "output_type": "stream",
     "text": [
      "\n",
      "2: fx=410.0054106060606\n",
      "x = Any[18]"
     ]
    },
    {
     "name": "stderr",
     "output_type": "stream",
     "text": [
      "\u001b[36m\u001b[1m[ \u001b[22m\u001b[39m\u001b[36m\u001b[1mInfo: \u001b[22m\u001b[39mProblem 1 - NZF1 : false #f:252 t=0.0006076101928374656\n",
      "\u001b[36m\u001b[1m[ \u001b[22m\u001b[39m\u001b[36m\u001b[1mInfo: \u001b[22m\u001b[39mProblem 2 - arglina : false #f:8 t=0.0008369490358126722\n",
      "\u001b[36m\u001b[1m[ \u001b[22m\u001b[39m\u001b[36m\u001b[1mInfo: \u001b[22m\u001b[39mProblem 3 - arglinb : false #f:56 t=0.001277823691460055\n",
      "\u001b[36m\u001b[1m[ \u001b[22m\u001b[39m\u001b[36m\u001b[1mInfo: \u001b[22m\u001b[39mProblem 4 - arglinc : false #f:56 t=0.0013950757575757575\n",
      "\u001b[36m\u001b[1m[ \u001b[22m\u001b[39m\u001b[36m\u001b[1mInfo: \u001b[22m\u001b[39mProblem 5 - arwhead : false #f:38 t=0.00129314738292011\n"
     ]
    },
    {
     "name": "stdout",
     "output_type": "stream",
     "text": [
      "\n",
      "3: fx=360.00525113636365\n",
      "x = Any[10]\n"
     ]
    },
    {
     "name": "stderr",
     "output_type": "stream",
     "text": [
      "\u001b[36m\u001b[1m[ \u001b[22m\u001b[39m\u001b[36m\u001b[1mInfo: \u001b[22m\u001b[39mProblem 1 - NZF1 : false #f:202 t=0.0005360192837465565\n",
      "\u001b[36m\u001b[1m[ \u001b[22m\u001b[39m\u001b[36m\u001b[1mInfo: \u001b[22m\u001b[39mProblem 2 - arglina : false #f:8 t=0.0008535468319559228\n",
      "\u001b[36m\u001b[1m[ \u001b[22m\u001b[39m\u001b[36m\u001b[1mInfo: \u001b[22m\u001b[39mProblem 3 - arglinb : false #f:56 t=0.0012992768595041324\n",
      "\u001b[36m\u001b[1m[ \u001b[22m\u001b[39m\u001b[36m\u001b[1mInfo: \u001b[22m\u001b[39mProblem 4 - arglinc : false #f:56 t=0.001277754820936639\n",
      "\u001b[36m\u001b[1m[ \u001b[22m\u001b[39m\u001b[36m\u001b[1mInfo: \u001b[22m\u001b[39mProblem 5 - arwhead : false #f:38 t=0.001284538567493113\n"
     ]
    },
    {
     "name": "stdout",
     "output_type": "stream",
     "text": [
      "4: fx=462.0054977272727\n",
      "x = Any[8]\n"
     ]
    },
    {
     "name": "stderr",
     "output_type": "stream",
     "text": [
      "\u001b[36m\u001b[1m[ \u001b[22m\u001b[39m\u001b[36m\u001b[1mInfo: \u001b[22m\u001b[39mProblem 1 - NZF1 : false #f:304 t=0.0007388774104683196\n",
      "\u001b[36m\u001b[1m[ \u001b[22m\u001b[39m\u001b[36m\u001b[1mInfo: \u001b[22m\u001b[39mProblem 2 - arglina : false #f:8 t=0.0008862258953168045\n",
      "\u001b[36m\u001b[1m[ \u001b[22m\u001b[39m\u001b[36m\u001b[1mInfo: \u001b[22m\u001b[39mProblem 3 - arglinb : false #f:56 t=0.001252582644628099\n",
      "\u001b[36m\u001b[1m[ \u001b[22m\u001b[39m\u001b[36m\u001b[1mInfo: \u001b[22m\u001b[39mProblem 4 - arglinc : false #f:56 t=0.0012866046831955923\n",
      "\u001b[36m\u001b[1m[ \u001b[22m\u001b[39m\u001b[36m\u001b[1mInfo: \u001b[22m\u001b[39mProblem 5 - arwhead : false #f:38 t=0.0013334366391184575\n"
     ]
    },
    {
     "name": "stdout",
     "output_type": "stream",
     "text": [
      "5: fx=580.005637224518\n",
      "x = Any[11]\n"
     ]
    },
    {
     "name": "stderr",
     "output_type": "stream",
     "text": [
      "\u001b[36m\u001b[1m[ \u001b[22m\u001b[39m\u001b[36m\u001b[1mInfo: \u001b[22m\u001b[39mProblem 1 - NZF1 : false #f:422 t=0.0010444214876033058\n",
      "\u001b[36m\u001b[1m[ \u001b[22m\u001b[39m\u001b[36m\u001b[1mInfo: \u001b[22m\u001b[39mProblem 2 - arglina : false #f:8 t=0.0008391184573002756\n",
      "\u001b[36m\u001b[1m[ \u001b[22m\u001b[39m\u001b[36m\u001b[1mInfo: \u001b[22m\u001b[39mProblem 3 - arglinb : false #f:56 t=0.0012821625344352618\n",
      "\u001b[36m\u001b[1m[ \u001b[22m\u001b[39m\u001b[36m\u001b[1mInfo: \u001b[22m\u001b[39mProblem 4 - arglinc : false #f:56 t=0.001228994490358127\n",
      "\u001b[36m\u001b[1m[ \u001b[22m\u001b[39m\u001b[36m\u001b[1mInfo: \u001b[22m\u001b[39mProblem 5 - arwhead : false #f:38 t=0.0012425275482093664\n"
     ]
    },
    {
     "name": "stdout",
     "output_type": "stream",
     "text": [
      "6: fx=476.0057608815427\n",
      "x = Any[15]\n"
     ]
    },
    {
     "name": "stderr",
     "output_type": "stream",
     "text": [
      "\u001b[36m\u001b[1m[ \u001b[22m\u001b[39m\u001b[36m\u001b[1mInfo: \u001b[22m\u001b[39mProblem 1 - NZF1 : false #f:318 t=0.0008266184573002755\n",
      "\u001b[36m\u001b[1m[ \u001b[22m\u001b[39m\u001b[36m\u001b[1mInfo: \u001b[22m\u001b[39mProblem 2 - arglina : false #f:8 t=0.0008668388429752067\n",
      "\u001b[36m\u001b[1m[ \u001b[22m\u001b[39m\u001b[36m\u001b[1mInfo: \u001b[22m\u001b[39mProblem 3 - arglinb : false #f:56 t=0.001353374655647383\n",
      "\u001b[36m\u001b[1m[ \u001b[22m\u001b[39m\u001b[36m\u001b[1mInfo: \u001b[22m\u001b[39mProblem 4 - arglinc : false #f:56 t=0.0013914944903581268\n",
      "\u001b[36m\u001b[1m[ \u001b[22m\u001b[39m\u001b[36m\u001b[1mInfo: \u001b[22m\u001b[39mProblem 5 - arwhead : false #f:38 t=0.0013225550964187328\n"
     ]
    },
    {
     "name": "stdout",
     "output_type": "stream",
     "text": [
      "7: fx=420.0056478650137\n",
      "x = Any[11]\n"
     ]
    },
    {
     "name": "stderr",
     "output_type": "stream",
     "text": [
      "\u001b[36m\u001b[1m[ \u001b[22m\u001b[39m\u001b[36m\u001b[1mInfo: \u001b[22m\u001b[39mProblem 1 - NZF1 : false #f:262 t=0.0006552341597796143\n",
      "\u001b[36m\u001b[1m[ \u001b[22m\u001b[39m\u001b[36m\u001b[1mInfo: \u001b[22m\u001b[39mProblem 2 - arglina : false #f:8 t=0.0010352272727272727\n",
      "\u001b[36m\u001b[1m[ \u001b[22m\u001b[39m\u001b[36m\u001b[1mInfo: \u001b[22m\u001b[39mProblem 3 - arglinb : false #f:56 t=0.0013088498622589532\n",
      "\u001b[36m\u001b[1m[ \u001b[22m\u001b[39m\u001b[36m\u001b[1mInfo: \u001b[22m\u001b[39mProblem 4 - arglinc : false #f:56 t=0.0013419077134986226\n",
      "\u001b[36m\u001b[1m[ \u001b[22m\u001b[39m\u001b[36m\u001b[1mInfo: \u001b[22m\u001b[39mProblem 5 - arwhead : false #f:38 t=0.0013066460055096419\n"
     ]
    },
    {
     "name": "stdout",
     "output_type": "stream",
     "text": [
      "8: fx=476.0059070247934\n",
      "Best value is mem=Any[18]\n"
     ]
    },
    {
     "name": "stderr",
     "output_type": "stream",
     "text": [
      "\u001b[36m\u001b[1m[ \u001b[22m\u001b[39m\u001b[36m\u001b[1mInfo: \u001b[22m\u001b[39mProblem 1 - NZF1 : false #f:318 t=0.0007690426997245179\n",
      "\u001b[36m\u001b[1m[ \u001b[22m\u001b[39m\u001b[36m\u001b[1mInfo: \u001b[22m\u001b[39mProblem 2 - arglina : false #f:8 t=0.0010169421487603307\n",
      "\u001b[36m\u001b[1m[ \u001b[22m\u001b[39m\u001b[36m\u001b[1mInfo: \u001b[22m\u001b[39mProblem 3 - arglinb : false #f:56 t=0.001496935261707989\n",
      "\u001b[36m\u001b[1m[ \u001b[22m\u001b[39m\u001b[36m\u001b[1mInfo: \u001b[22m\u001b[39mProblem 4 - arglinc : false #f:56 t=0.0013269628099173555\n",
      "\u001b[36m\u001b[1m[ \u001b[22m\u001b[39m\u001b[36m\u001b[1mInfo: \u001b[22m\u001b[39mProblem 5 - arwhead : false #f:38 t=0.001297141873278237\n"
     ]
    },
    {
     "data": {
      "text/plain": [
       "1-element Vector{Any}:\n",
       " 18"
      ]
     },
     "execution_count": 14,
     "metadata": {},
     "output_type": "execute_result"
    }
   ],
   "source": [
    "vals = very_smart_algo(model_expr, verbose = 1)"
   ]
  },
  {
   "cell_type": "markdown",
   "id": "4eb6a4ec",
   "metadata": {},
   "source": [
    "# How to integrate this in JSO?\n",
    "\n",
    "The first goal is to model the problem of parameter tuning:\n",
    "- Step 1: Add `SolverParameters.jl` somewhere: either in SolverCore.jl or independent package;\n",
    "- Step 2-3: use the structure defined in `SolverParameters.jl` for the JSO-solvers (right now each solver has its own structure or no structure);\n",
    "- Step 2-3: Register `BBModels.jl`.\n",
    "\n",
    "Then, the next goal is to decide how to solve it, for instance https://github.com/ProofOfConceptForJuliSmoothOptimizers/SolverTuning.jl.\n",
    "Note that this will also be used for algorithm selection in `JSOSuite.jl`."
   ]
  },
  {
   "cell_type": "code",
   "execution_count": null,
   "id": "7f5841cc",
   "metadata": {},
   "outputs": [],
   "source": []
  }
 ],
 "metadata": {
  "@webio": {
   "lastCommId": null,
   "lastKernelId": null
  },
  "kernelspec": {
   "display_name": "Julia 1.8.0",
   "language": "julia",
   "name": "julia-1.8"
  },
  "language_info": {
   "file_extension": ".jl",
   "mimetype": "application/julia",
   "name": "julia",
   "version": "1.8.0"
  }
 },
 "nbformat": 4,
 "nbformat_minor": 5
}
